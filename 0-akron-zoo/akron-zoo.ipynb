{
 "cells": [
  {
   "cell_type": "markdown",
   "id": "dea92263",
   "metadata": {},
   "source": [
    "BUAI 446 Assignment 1 - Akron Zoo  \n",
    "Name: Ruihuang Yang  \n",
    "NetID: rxy216  \n",
    "Date: 09/07/2025  "
   ]
  },
  {
   "cell_type": "code",
   "execution_count": null,
   "id": "e57942ef",
   "metadata": {},
   "outputs": [],
   "source": [
    "def f(x):\n",
    "  return 3*x+1"
   ]
  }
 ],
 "metadata": {
  "jupytext": {
   "cell_metadata_filter": "-all",
   "main_language": "python",
   "notebook_metadata_filter": "-all"
  }
 },
 "nbformat": 4,
 "nbformat_minor": 5
}
