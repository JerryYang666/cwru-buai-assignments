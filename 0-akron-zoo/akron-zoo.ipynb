{
 "cells": [
  {
   "cell_type": "markdown",
   "id": "294e8f08",
   "metadata": {},
   "source": [
    "BUAI 446 Assignment 1 - Akron Zoo  \n",
    "Name: Ruihuang Yang  \n",
    "NetID: rxy216  \n",
    "Date: 09/07/2025  "
   ]
  },
  {
   "cell_type": "markdown",
   "id": "554208ed",
   "metadata": {},
   "source": [
    "### Import libraries"
   ]
  },
  {
   "cell_type": "code",
   "execution_count": null,
   "id": "effab645",
   "metadata": {},
   "outputs": [],
   "source": [
    "import pandas as pd"
   ]
  },
  {
   "cell_type": "markdown",
   "id": "6538c57e",
   "metadata": {},
   "source": [
    "### Load and Explore Data"
   ]
  },
  {
   "cell_type": "code",
   "execution_count": 2,
   "id": "acd6bc89",
   "metadata": {},
   "outputs": [
    {
     "name": "stdout",
     "output_type": "stream",
     "text": [
      "Training Data Shape: (740, 20)\n",
      "Test Data Shape: (303, 20)\n"
     ]
    }
   ],
   "source": [
    "# Load training and test datasets\n",
    "train_data = pd.read_csv('data/ZOOLOG1-TRAIN-2025.csv')\n",
    "test_data = pd.read_csv('data/ZOOLOG1-TEST-2025.csv')\n",
    "\n",
    "print(\"Training Data Shape:\", train_data.shape)\n",
    "print(\"Test Data Shape:\", test_data.shape)"
   ]
  },
  {
   "cell_type": "markdown",
   "id": "bc581dd8",
   "metadata": {},
   "source": [
    "### Basic Data Exploration"
   ]
  },
  {
   "cell_type": "code",
   "execution_count": 3,
   "id": "4075eff8",
   "metadata": {},
   "outputs": [
    {
     "name": "stdout",
     "output_type": "stream",
     "text": [
      "Training Data - First 5 rows:\n",
      "   NID  UPD  benefits   costs   value  identity    know     sat     fle  \\\n",
      "0    1    0    0.8011 -0.2225 -0.2900    0.7353  0.4332  0.8511 -0.6795   \n",
      "1    2    0   -0.8915 -0.2831  0.8196   -0.9243 -2.4690  0.8511 -0.6795   \n",
      "2    3    1   -0.4484  1.0290 -0.4391   -0.8858 -0.2342  0.8511  0.8696   \n",
      "3    4    0   -0.9444  0.4703 -1.6980   -0.2679 -0.6842 -0.5246 -1.2470   \n",
      "4    5    0   -0.1004  0.8337 -0.4391   -1.0960 -0.6842 -0.5246  0.3787   \n",
      "\n",
      "   trustfor  age  gender  educ  mstat  size  child1  dist  tvis  age_rec  \\\n",
      "0 -0.057583    4       2     1      1     3       4     3     3        3   \n",
      "1  0.105467    2       2     3      1     5       3     4     2        1   \n",
      "2 -0.057583    2       2     4      1     5       3     3     3        1   \n",
      "3 -0.709000    4       1     3      1     5       3     4     3        3   \n",
      "4 -1.732333    4       1     2      1     2       4     3     5        3   \n",
      "\n",
      "   educnew  \n",
      "0        0  \n",
      "1        1  \n",
      "2        2  \n",
      "3        1  \n",
      "4        0  \n"
     ]
    }
   ],
   "source": [
    "# Display first few rows of training data\n",
    "print(\"Training Data - First 5 rows:\")\n",
    "print(train_data.head())"
   ]
  },
  {
   "cell_type": "code",
   "execution_count": 4,
   "id": "2de3f5e7",
   "metadata": {},
   "outputs": [
    {
     "name": "stdout",
     "output_type": "stream",
     "text": [
      "\n",
      "Training Data - Column Info:\n",
      "<class 'pandas.core.frame.DataFrame'>\n",
      "RangeIndex: 740 entries, 0 to 739\n",
      "Data columns (total 20 columns):\n",
      " #   Column    Non-Null Count  Dtype  \n",
      "---  ------    --------------  -----  \n",
      " 0   NID       740 non-null    int64  \n",
      " 1   UPD       740 non-null    int64  \n",
      " 2   benefits  740 non-null    float64\n",
      " 3   costs     740 non-null    float64\n",
      " 4   value     740 non-null    float64\n",
      " 5   identity  740 non-null    float64\n",
      " 6   know      740 non-null    float64\n",
      " 7   sat       740 non-null    float64\n",
      " 8   fle       740 non-null    float64\n",
      " 9   trustfor  740 non-null    float64\n",
      " 10  age       740 non-null    int64  \n",
      " 11  gender    740 non-null    int64  \n",
      " 12  educ      740 non-null    int64  \n",
      " 13  mstat     740 non-null    int64  \n",
      " 14  size      740 non-null    int64  \n",
      " 15  child1    740 non-null    int64  \n",
      " 16  dist      740 non-null    int64  \n",
      " 17  tvis      740 non-null    int64  \n",
      " 18  age_rec   740 non-null    int64  \n",
      " 19  educnew   740 non-null    int64  \n",
      "dtypes: float64(8), int64(12)\n",
      "memory usage: 115.8 KB\n",
      "None\n"
     ]
    }
   ],
   "source": [
    "# Display column information\n",
    "print(\"\\nTraining Data - Column Info:\")\n",
    "print(train_data.info())"
   ]
  },
  {
   "cell_type": "code",
   "execution_count": 5,
   "id": "a8568844",
   "metadata": {},
   "outputs": [
    {
     "name": "stdout",
     "output_type": "stream",
     "text": [
      "\n",
      "Training Data - Descriptive Statistics:\n",
      "               NID         UPD    benefits       costs       value  \\\n",
      "count   740.000000  740.000000  740.000000  740.000000  740.000000   \n",
      "mean    524.189189    0.500000   -0.032099   -0.007556   -0.035639   \n",
      "std     305.265029    0.500338    1.209893    1.090441    1.053612   \n",
      "min       1.000000    0.000000   -4.988000   -1.332000   -4.728000   \n",
      "25%     257.500000    0.000000   -0.643500   -1.039000   -0.439100   \n",
      "50%     531.500000    0.500000    0.152200    0.043310    0.370100   \n",
      "75%     790.500000    1.000000    0.811500    0.673700    0.819600   \n",
      "max    1042.000000    1.000000    1.355000    4.169000    0.819600   \n",
      "\n",
      "         identity        know         sat         fle    trustfor         age  \\\n",
      "count  740.000000  740.000000  740.000000  740.000000  740.000000  740.000000   \n",
      "mean    -0.025827   -0.020556   -0.027073   -0.006966    0.003556    3.459459   \n",
      "std      1.105308    1.065872    1.037607    1.030317    0.884611    1.007270   \n",
      "min     -4.201000   -2.919000   -5.356000   -5.480000   -2.755833    1.000000   \n",
      "25%     -0.653200   -0.684200   -0.524600   -0.188600   -0.546417    3.000000   \n",
      "50%     -0.006795    0.433200    0.179400    0.378700   -0.057583    3.000000   \n",
      "75%      0.888100    0.433200    0.851100    0.869600    0.639967    4.000000   \n",
      "max      1.353000    1.551000    0.851100    0.869600    1.337667    5.000000   \n",
      "\n",
      "           gender        educ       mstat        size      child1        dist  \\\n",
      "count  740.000000  740.000000  740.000000  740.000000  740.000000  740.000000   \n",
      "mean     1.706757    2.979730    1.218919    3.633784    2.204054    2.905405   \n",
      "std      0.455557    0.904579    0.627014    1.314927    1.701781    0.859066   \n",
      "min      1.000000    1.000000    1.000000    1.000000    0.000000    1.000000   \n",
      "25%      1.000000    2.000000    1.000000    2.000000    1.000000    2.000000   \n",
      "50%      2.000000    3.000000    1.000000    4.000000    2.000000    3.000000   \n",
      "75%      2.000000    4.000000    1.000000    4.000000    3.000000    4.000000   \n",
      "max      2.000000    4.000000    4.000000    6.000000    6.000000    4.000000   \n",
      "\n",
      "             tvis     age_rec     educnew  \n",
      "count  740.000000  740.000000  740.000000  \n",
      "mean     2.743243    2.464865    1.051351  \n",
      "std      1.388731    0.996670    0.775163  \n",
      "min      1.000000    1.000000    0.000000  \n",
      "25%      2.000000    2.000000    0.000000  \n",
      "50%      2.000000    2.000000    1.000000  \n",
      "75%      4.000000    3.000000    2.000000  \n",
      "max      5.000000    4.000000    2.000000  \n"
     ]
    }
   ],
   "source": [
    "# Display basic statistics\n",
    "print(\"\\nTraining Data - Descriptive Statistics:\")\n",
    "print(train_data.describe())"
   ]
  },
  {
   "cell_type": "code",
   "execution_count": 6,
   "id": "dfe347a3",
   "metadata": {},
   "outputs": [
    {
     "name": "stdout",
     "output_type": "stream",
     "text": [
      "\n",
      "Missing values in training data:\n",
      "NID         0\n",
      "UPD         0\n",
      "benefits    0\n",
      "costs       0\n",
      "value       0\n",
      "identity    0\n",
      "know        0\n",
      "sat         0\n",
      "fle         0\n",
      "trustfor    0\n",
      "age         0\n",
      "gender      0\n",
      "educ        0\n",
      "mstat       0\n",
      "size        0\n",
      "child1      0\n",
      "dist        0\n",
      "tvis        0\n",
      "age_rec     0\n",
      "educnew     0\n",
      "dtype: int64\n",
      "\n",
      "Missing values in test data:\n",
      "NID         0\n",
      "UPD         0\n",
      "benefits    0\n",
      "costs       0\n",
      "value       0\n",
      "identity    0\n",
      "know        0\n",
      "sat         0\n",
      "fle         0\n",
      "trustfor    0\n",
      "age         0\n",
      "gender      0\n",
      "educ        0\n",
      "mstat       0\n",
      "size        0\n",
      "child1      0\n",
      "dist        0\n",
      "tvis        0\n",
      "age_rec     0\n",
      "educnew     0\n",
      "dtype: int64\n"
     ]
    }
   ],
   "source": [
    "# Check for missing values\n",
    "print(\"\\nMissing values in training data:\")\n",
    "print(train_data.isnull().sum())\n",
    "\n",
    "print(\"\\nMissing values in test data:\")\n",
    "print(test_data.isnull().sum())"
   ]
  },
  {
   "cell_type": "code",
   "execution_count": 7,
   "id": "4039d3b8",
   "metadata": {
    "lines_to_next_cell": 2
   },
   "outputs": [
    {
     "name": "stdout",
     "output_type": "stream",
     "text": [
      "\n",
      "Target variable (UPD) distribution in training data:\n",
      "UPD\n",
      "0    370\n",
      "1    370\n",
      "Name: count, dtype: int64\n",
      "\n",
      "Upgrade rate: 0.500\n"
     ]
    }
   ],
   "source": [
    "# Check target variable distribution\n",
    "print(\"\\nTarget variable (UPD) distribution in training data:\")\n",
    "print(train_data['UPD'].value_counts())\n",
    "print(f\"\\nUpgrade rate: {train_data['UPD'].mean():.3f}\")"
   ]
  }
 ],
 "metadata": {
  "jupytext": {
   "cell_metadata_filter": "-all",
   "main_language": "python",
   "notebook_metadata_filter": "-all"
  },
  "kernelspec": {
   "display_name": ".venv",
   "language": "python",
   "name": "python3"
  },
  "language_info": {
   "codemirror_mode": {
    "name": "ipython",
    "version": 3
   },
   "file_extension": ".py",
   "mimetype": "text/x-python",
   "name": "python",
   "nbconvert_exporter": "python",
   "pygments_lexer": "ipython3",
   "version": "3.12.11"
  }
 },
 "nbformat": 4,
 "nbformat_minor": 5
}
