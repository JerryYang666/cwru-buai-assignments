{
 "cells": [
  {
   "cell_type": "markdown",
   "id": "294e8f08",
   "metadata": {},
   "source": [
    "BUAI 446 Assignment 1 - Akron Zoo  \n",
    "Name: Ruihuang Yang  \n",
    "NetID: rxy216  \n",
    "Date: 09/07/2025  "
   ]
  },
  {
   "cell_type": "markdown",
   "id": "554208ed",
   "metadata": {},
   "source": [
    "### Import libraries"
   ]
  },
  {
   "cell_type": "code",
   "execution_count": null,
   "id": "effab645",
   "metadata": {},
   "outputs": [],
   "source": [
    "import pandas as pd\n",
    "import numpy as np\n",
    "import matplotlib.pyplot as plt\n",
    "import seaborn as sns"
   ]
  },
  {
   "cell_type": "markdown",
   "id": "6538c57e",
   "metadata": {},
   "source": [
    "### Load and Explore Data"
   ]
  },
  {
   "cell_type": "code",
   "execution_count": null,
   "id": "acd6bc89",
   "metadata": {},
   "outputs": [],
   "source": [
    "# Load training and test datasets\n",
    "train_data = pd.read_csv('data/ZOOLOG1-TRAIN-2025.csv')\n",
    "test_data = pd.read_csv('data/ZOOLOG1-TEST-2025.csv')\n",
    "\n",
    "print(\"Training Data Shape:\", train_data.shape)\n",
    "print(\"Test Data Shape:\", test_data.shape)"
   ]
  },
  {
   "cell_type": "markdown",
   "id": "bc581dd8",
   "metadata": {},
   "source": [
    "### Basic Data Exploration"
   ]
  },
  {
   "cell_type": "code",
   "execution_count": null,
   "id": "4075eff8",
   "metadata": {},
   "outputs": [],
   "source": [
    "# Display first few rows of training data\n",
    "print(\"Training Data - First 5 rows:\")\n",
    "print(train_data.head())"
   ]
  },
  {
   "cell_type": "code",
   "execution_count": null,
   "id": "2de3f5e7",
   "metadata": {},
   "outputs": [],
   "source": [
    "# Display column information\n",
    "print(\"\\nTraining Data - Column Info:\")\n",
    "print(train_data.info())"
   ]
  },
  {
   "cell_type": "code",
   "execution_count": null,
   "id": "a8568844",
   "metadata": {},
   "outputs": [],
   "source": [
    "# Display basic statistics\n",
    "print(\"\\nTraining Data - Descriptive Statistics:\")\n",
    "print(train_data.describe())"
   ]
  },
  {
   "cell_type": "code",
   "execution_count": null,
   "id": "dfe347a3",
   "metadata": {},
   "outputs": [],
   "source": [
    "# Check for missing values\n",
    "print(\"\\nMissing values in training data:\")\n",
    "print(train_data.isnull().sum())\n",
    "\n",
    "print(\"\\nMissing values in test data:\")\n",
    "print(test_data.isnull().sum())"
   ]
  },
  {
   "cell_type": "code",
   "execution_count": null,
   "id": "4039d3b8",
   "metadata": {
    "lines_to_next_cell": 2
   },
   "outputs": [],
   "source": [
    "# Check target variable distribution\n",
    "print(\"\\nTarget variable (UPD) distribution in training data:\")\n",
    "print(train_data['UPD'].value_counts())\n",
    "print(f\"\\nUpgrade rate: {train_data['UPD'].mean():.3f}\")"
   ]
  }
 ],
 "metadata": {
  "jupytext": {
   "cell_metadata_filter": "-all",
   "main_language": "python",
   "notebook_metadata_filter": "-all"
  },
  "kernelspec": {
   "display_name": ".venv",
   "language": "python",
   "name": "python3"
  },
  "language_info": {
   "name": "python",
   "version": "3.12.11"
  }
 },
 "nbformat": 4,
 "nbformat_minor": 5
}
