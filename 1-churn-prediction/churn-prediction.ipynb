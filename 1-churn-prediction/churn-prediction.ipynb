{
 "cells": [
  {
   "cell_type": "markdown",
   "id": "397caf91",
   "metadata": {},
   "source": [
    "BUAI 435 Assignment 1 - Churn Prediction  \n",
    "Name: Ruihuang Yang  \n",
    "NetID: rxy216  \n",
    "Date: 09/14/2025  "
   ]
  },
  {
   "cell_type": "markdown",
   "id": "0736fd37",
   "metadata": {},
   "source": [
    "### Import libraries"
   ]
  },
  {
   "cell_type": "code",
   "execution_count": null,
   "id": "b398a0ca",
   "metadata": {},
   "outputs": [],
   "source": [
    "import pandas as pd\n",
    "import numpy as np\n",
    "import matplotlib.pyplot as plt\n",
    "import seaborn as sns\n",
    "import random\n",
    "import os\n",
    "\n",
    "from sklearn.model_selection import train_test_split\n",
    "from sklearn.preprocessing import StandardScaler\n",
    "from sklearn.metrics import classification_report, confusion_matrix, roc_auc_score, roc_curve\n",
    "\n",
    "import statsmodels.api as sm\n",
    "\n",
    "# Set up beautiful plotting style\n",
    "plt.style.use('default')\n",
    "sns.set_palette(\"husl\")\n",
    "sns.set_style(\"whitegrid\")\n",
    "plt.rcParams[\"figure.figsize\"] = (12, 8)\n",
    "plt.rcParams[\"font.size\"] = 12\n",
    "plt.rcParams[\"axes.titlesize\"] = 16\n",
    "plt.rcParams[\"axes.labelsize\"] = 14\n",
    "plt.rcParams[\"xtick.labelsize\"] = 12\n",
    "plt.rcParams[\"ytick.labelsize\"] = 12\n",
    "plt.rcParams[\"legend.fontsize\"] = 12\n",
    "\n",
    "# Set seeds for reproducibility\n",
    "np.random.seed(42)\n",
    "random.seed(42)"
   ]
  },
  {
   "cell_type": "markdown",
   "id": "877e609b",
   "metadata": {},
   "source": [
    "### Q1 - Steps 1 & 2: Preprocessing & Variable Setup"
   ]
  },
  {
   "cell_type": "markdown",
   "id": "af1c8d87",
   "metadata": {},
   "source": [
    "#### Load the CSV data"
   ]
  },
  {
   "cell_type": "code",
   "execution_count": null,
   "id": "9f241688",
   "metadata": {},
   "outputs": [],
   "source": [
    "# Load the dataset\n",
    "df = pd.read_csv('data/Telco-Customer-Churn.csv')\n",
    "print(f\"Dataset shape: {df.shape}\")\n",
    "print(f\"Columns: {df.columns.tolist()}\")"
   ]
  },
  {
   "cell_type": "markdown",
   "id": "1510ccc1",
   "metadata": {},
   "source": [
    "#### Preprocessing: TotalCharges and Churn conversion"
   ]
  },
  {
   "cell_type": "code",
   "execution_count": null,
   "id": "dae516ed",
   "metadata": {},
   "outputs": [],
   "source": [
    "# Coerce TotalCharges to numeric and impute missing values with mean\n",
    "df['TotalCharges'] = pd.to_numeric(df['TotalCharges'], errors='coerce')\n",
    "mean_total_charges = df['TotalCharges'].mean()\n",
    "print(f\"Missing values in TotalCharges before imputation: {df['TotalCharges'].isna().sum()}\")\n",
    "df['TotalCharges'] = df['TotalCharges'].fillna(mean_total_charges)\n",
    "print(f\"TotalCharges mean used for imputation: {mean_total_charges:.2f}\")\n",
    "print(f\"Missing values in TotalCharges after imputation: {df['TotalCharges'].isna().sum()}\")\n",
    "\n",
    "# Convert Churn to 0/1 (Yes=1, No=0)\n",
    "df['Churn'] = df['Churn'].map({'Yes': 1, 'No': 0})\n",
    "print(f\"Churn value counts:\\n{df['Churn'].value_counts()}\")"
   ]
  },
  {
   "cell_type": "markdown",
   "id": "3e05e27e",
   "metadata": {},
   "source": [
    "#### Create Manual Dummy Variables"
   ]
  },
  {
   "cell_type": "code",
   "execution_count": null,
   "id": "aef0ae67",
   "metadata": {},
   "outputs": [],
   "source": [
    "# Manually create four dummies (do NOT one-hot encode these)\n",
    "df['gender_Female'] = (df['gender'] == 'Female').astype(int)\n",
    "df['PhoneService_Yes'] = (df['PhoneService'] == 'Yes').astype(int)\n",
    "df['InternetService_Fiber optic'] = (df['InternetService'] == 'Fiber optic').astype(int)\n",
    "df['Contract_Two year'] = (df['Contract'] == 'Two year').astype(int)\n",
    "\n",
    "print(\"Manual dummy variables created:\")\n",
    "print(f\"gender_Female: {df['gender_Female'].value_counts().to_dict()}\")\n",
    "print(f\"PhoneService_Yes: {df['PhoneService_Yes'].value_counts().to_dict()}\")\n",
    "print(f\"InternetService_Fiber optic: {df['InternetService_Fiber optic'].value_counts().to_dict()}\")\n",
    "print(f\"Contract_Two year: {df['Contract_Two year'].value_counts().to_dict()}\")"
   ]
  },
  {
   "cell_type": "markdown",
   "id": "62a7f1ae",
   "metadata": {},
   "source": [
    "#### Data Overview - Info and Head"
   ]
  },
  {
   "cell_type": "code",
   "execution_count": null,
   "id": "50572b32",
   "metadata": {},
   "outputs": [],
   "source": [
    "# Show df.info() and df.head() for sanity check\n",
    "print(\"Dataset Info:\")\n",
    "df.info()"
   ]
  },
  {
   "cell_type": "code",
   "execution_count": null,
   "id": "103ae7b4",
   "metadata": {},
   "outputs": [],
   "source": [
    "print(\"\\nFirst 5 rows of the dataset:\")\n",
    "df.head()"
   ]
  },
  {
   "cell_type": "markdown",
   "id": "5b3747cc",
   "metadata": {},
   "source": [
    "### Q2 - Step 3: EDA (Exploratory Data Analysis)"
   ]
  },
  {
   "cell_type": "markdown",
   "id": "22dff8b6",
   "metadata": {},
   "source": [
    "#### Setup: Create graphs folder for saving plots"
   ]
  },
  {
   "cell_type": "code",
   "execution_count": null,
   "id": "e1896301",
   "metadata": {},
   "outputs": [],
   "source": [
    "# Create graphs folder if it doesn't exist\n",
    "os.makedirs('graphs', exist_ok=True)\n",
    "print(\"Graphs folder created/verified\")"
   ]
  },
  {
   "cell_type": "markdown",
   "id": "6bbc9b8e",
   "metadata": {},
   "source": [
    "#### Distribution Analysis for Numeric Variables"
   ]
  },
  {
   "cell_type": "code",
   "execution_count": null,
   "id": "b35e2654",
   "metadata": {},
   "outputs": [],
   "source": [
    "# Analyze distribution of TotalCharges (a key numeric variable)\n",
    "fig, (ax1, ax2) = plt.subplots(1, 2, figsize=(15, 6))\n",
    "\n",
    "# Distribution plot with histogram and KDE\n",
    "sns.histplot(data=df, x='TotalCharges', bins=30, kde=True, ax=ax1, color='skyblue', alpha=0.7)\n",
    "ax1.set_title('Distribution of Total Charges', fontsize=14, fontweight='bold', pad=20)\n",
    "ax1.set_xlabel('Total Charges ($)', fontsize=12)\n",
    "ax1.set_ylabel('Frequency', fontsize=12)\n",
    "\n",
    "# Box plot to show outliers and quartiles\n",
    "sns.boxplot(data=df, y='TotalCharges', ax=ax2, color='lightcoral')\n",
    "ax2.set_title('Total Charges Box Plot', fontsize=14, fontweight='bold', pad=20)\n",
    "ax2.set_ylabel('Total Charges ($)', fontsize=12)\n",
    "\n",
    "plt.tight_layout()\n",
    "plt.savefig('graphs/totalcharges_distribution.png', dpi=300, bbox_inches='tight')\n",
    "plt.show()\n",
    "\n",
    "# Basic statistics for TotalCharges\n",
    "print(\"=== TOTAL CHARGES - BASIC STATISTICS ===\")\n",
    "print(f\"Mean: ${df['TotalCharges'].mean():.2f}\")\n",
    "print(f\"Median: ${df['TotalCharges'].median():.2f}\")\n",
    "print(f\"Standard Deviation: ${df['TotalCharges'].std():.2f}\")\n",
    "print(f\"Minimum: ${df['TotalCharges'].min():.2f}\")\n",
    "print(f\"Maximum: ${df['TotalCharges'].max():.2f}\")\n",
    "print(f\"25th Percentile: ${df['TotalCharges'].quantile(0.25):.2f}\")\n",
    "print(f\"75th Percentile: ${df['TotalCharges'].quantile(0.75):.2f}\")"
   ]
  },
  {
   "cell_type": "markdown",
   "id": "bac354e2",
   "metadata": {},
   "source": [
    "#### Monthly Charges Distribution"
   ]
  },
  {
   "cell_type": "code",
   "execution_count": null,
   "id": "e0a8a8a3",
   "metadata": {},
   "outputs": [],
   "source": [
    "# Also analyze MonthlyCharges distribution\n",
    "fig, ax = plt.subplots(figsize=(12, 6))\n",
    "sns.histplot(data=df, x='MonthlyCharges', bins=25, kde=True, ax=ax, color='mediumseagreen', alpha=0.7)\n",
    "ax.set_title('Distribution of Monthly Charges', fontsize=14, fontweight='bold', pad=20)\n",
    "ax.set_xlabel('Monthly Charges ($)', fontsize=12)\n",
    "ax.set_ylabel('Frequency', fontsize=12)\n",
    "\n",
    "# Add mean line\n",
    "mean_monthly = df['MonthlyCharges'].mean()\n",
    "ax.axvline(mean_monthly, color='red', linestyle='--', linewidth=2, label=f'Mean: ${mean_monthly:.2f}')\n",
    "ax.legend()\n",
    "\n",
    "plt.tight_layout()\n",
    "plt.savefig('graphs/monthlycharges_distribution.png', dpi=300, bbox_inches='tight')\n",
    "plt.show()\n",
    "\n",
    "print(\"=== MONTHLY CHARGES - BASIC STATISTICS ===\")\n",
    "print(f\"Mean: ${df['MonthlyCharges'].mean():.2f}\")\n",
    "print(f\"Median: ${df['MonthlyCharges'].median():.2f}\")\n",
    "print(f\"Standard Deviation: ${df['MonthlyCharges'].std():.2f}\")\n",
    "print(f\"Range: ${df['MonthlyCharges'].min():.2f} - ${df['MonthlyCharges'].max():.2f}\")"
   ]
  },
  {
   "cell_type": "markdown",
   "id": "0bcc2aa0",
   "metadata": {},
   "source": [
    "#### Churn Rate Analysis"
   ]
  },
  {
   "cell_type": "code",
   "execution_count": null,
   "id": "49eea152",
   "metadata": {},
   "outputs": [],
   "source": [
    "# Overall churn rate\n",
    "overall_churn_rate = df['Churn'].mean()\n",
    "print(\"=== OVERALL CHURN RATE ===\")\n",
    "print(f\"Overall Churn Rate: {overall_churn_rate:.1%} ({df['Churn'].sum():,} out of {len(df):,} customers)\")\n",
    "\n",
    "# Create beautiful churn rate visualization\n",
    "fig, (ax1, ax2) = plt.subplots(1, 2, figsize=(15, 6))\n",
    "\n",
    "# Overall churn pie chart\n",
    "churn_counts = df['Churn'].value_counts()\n",
    "labels = ['Retained (No Churn)', 'Churned']\n",
    "colors = ['#2E8B57', '#DC143C']\n",
    "wedges, texts, autotexts = ax1.pie(churn_counts.values, labels=labels, autopct='%1.1f%%', \n",
    "                                   colors=colors, startangle=90, explode=(0, 0.1))\n",
    "ax1.set_title('Overall Customer Churn Distribution', fontsize=14, fontweight='bold', pad=20)\n",
    "\n",
    "# Beautify the text\n",
    "for autotext in autotexts:\n",
    "    autotext.set_color('white')\n",
    "    autotext.set_fontweight('bold')\n",
    "    autotext.set_fontsize(12)\n",
    "\n",
    "# Churn rate by Contract type\n",
    "contract_churn = pd.crosstab(df['Contract'], df['Churn'], normalize='index')\n",
    "contract_churn.plot(kind='bar', ax=ax2, color=['#2E8B57', '#DC143C'], alpha=0.8)\n",
    "ax2.set_title('Churn Rate by Contract Type', fontsize=14, fontweight='bold', pad=20)\n",
    "ax2.set_xlabel('Contract Type', fontsize=12)\n",
    "ax2.set_ylabel('Churn Rate', fontsize=12)\n",
    "ax2.legend(['Retained', 'Churned'], loc='upper left')\n",
    "ax2.tick_params(axis='x', rotation=45)\n",
    "\n",
    "plt.tight_layout()\n",
    "plt.savefig('graphs/churn_analysis_overview.png', dpi=300, bbox_inches='tight')\n",
    "plt.show()"
   ]
  },
  {
   "cell_type": "markdown",
   "id": "d6d3a9f3",
   "metadata": {},
   "source": [
    "#### Detailed Churn Analysis by Contract Type"
   ]
  },
  {
   "cell_type": "code",
   "execution_count": null,
   "id": "97311091",
   "metadata": {},
   "outputs": [],
   "source": [
    "# Create crosstab for Contract vs Churn\n",
    "contract_crosstab = pd.crosstab(df['Contract'], df['Churn'], margins=True)\n",
    "contract_churn_pct = pd.crosstab(df['Contract'], df['Churn'], normalize='index') * 100\n",
    "\n",
    "print(\"=== CHURN RATE BY CONTRACT TYPE ===\")\n",
    "print(\"Raw counts:\")\n",
    "print(contract_crosstab)\n",
    "print(\"\\nPercentages:\")\n",
    "print(contract_churn_pct.round(1))\n",
    "\n",
    "# Beautiful bar chart for churn rates by different categories\n",
    "fig, ((ax1, ax2), (ax3, ax4)) = plt.subplots(2, 2, figsize=(16, 12))\n",
    "\n",
    "# 1. Churn by Contract Type\n",
    "contract_churn_pct[1].plot(kind='bar', ax=ax1, color='coral', alpha=0.8)\n",
    "ax1.set_title('Churn Rate by Contract Type', fontsize=12, fontweight='bold')\n",
    "ax1.set_ylabel('Churn Rate (%)', fontsize=10)\n",
    "ax1.tick_params(axis='x', rotation=45)\n",
    "\n",
    "# 2. Churn by Payment Method\n",
    "payment_churn = pd.crosstab(df['PaymentMethod'], df['Churn'], normalize='index')[1] * 100\n",
    "payment_churn.plot(kind='bar', ax=ax2, color='lightsteelblue', alpha=0.8)\n",
    "ax2.set_title('Churn Rate by Payment Method', fontsize=12, fontweight='bold')\n",
    "ax2.set_ylabel('Churn Rate (%)', fontsize=10)\n",
    "ax2.tick_params(axis='x', rotation=45)\n",
    "\n",
    "# 3. Churn by Internet Service\n",
    "internet_churn = pd.crosstab(df['InternetService'], df['Churn'], normalize='index')[1] * 100\n",
    "internet_churn.plot(kind='bar', ax=ax3, color='lightgreen', alpha=0.8)\n",
    "ax3.set_title('Churn Rate by Internet Service', fontsize=12, fontweight='bold')\n",
    "ax3.set_ylabel('Churn Rate (%)', fontsize=10)\n",
    "ax3.tick_params(axis='x', rotation=45)\n",
    "\n",
    "# 4. Churn by Tenure groups\n",
    "df['tenure_group'] = pd.cut(df['tenure'], bins=[0, 12, 24, 36, 72], labels=['0-12 months', '13-24 months', '25-36 months', '37+ months'])\n",
    "tenure_churn = pd.crosstab(df['tenure_group'], df['Churn'], normalize='index')[1] * 100\n",
    "tenure_churn.plot(kind='bar', ax=ax4, color='gold', alpha=0.8)\n",
    "ax4.set_title('Churn Rate by Tenure Group', fontsize=12, fontweight='bold')\n",
    "ax4.set_ylabel('Churn Rate (%)', fontsize=10)\n",
    "ax4.tick_params(axis='x', rotation=45)\n",
    "\n",
    "plt.tight_layout()\n",
    "plt.savefig('graphs/churn_by_categories.png', dpi=300, bbox_inches='tight')\n",
    "plt.show()"
   ]
  },
  {
   "cell_type": "markdown",
   "id": "64540ed3",
   "metadata": {},
   "source": [
    "#### EDA Insights and Observations"
   ]
  },
  {
   "cell_type": "markdown",
   "id": "8925089c",
   "metadata": {},
   "source": [
    "**Key Observations from EDA:**\n",
    "\n",
    "• **Customer Revenue Distribution Insights**: Total charges exhibit a highly right-skewed distribution (mean $2,283 vs median $1,401), indicating that most customers generate lower lifetime revenue while a minority are high-value customers. Monthly charges are more balanced (mean $64.76 vs median $70.35) with substantial variation ($18-$119 range), suggesting diverse service tier adoption across the customer base.\n",
    "\n",
    "• **Contract Commitment as Primary Churn Driver**: The data reveals a dramatic churn gradient by contract type - month-to-month customers have a 42.7% churn rate (15x higher risk), one-year contracts show 11.3% churn, while two-year contracts demonstrate exceptional retention at just 2.8% churn. This 40-point difference underscores contract commitment as the strongest predictor of customer retention.\n",
    "\n",
    "• **Customer Lifecycle and Service Risk Factors**: Analysis reveals that newer customers (0-12 months tenure) face the highest churn risk, while fiber optic internet subscribers and electronic check payment users show elevated churn rates. The overall company churn rate of 26.5% (1,869 of 7,043 customers) suggests significant revenue at risk, particularly concentrated in the month-to-month segment which represents 55% of the customer base."
   ]
  }
 ],
 "metadata": {
  "jupytext": {
   "cell_metadata_filter": "-all",
   "main_language": "python",
   "notebook_metadata_filter": "-all"
  }
 },
 "nbformat": 4,
 "nbformat_minor": 5
}
